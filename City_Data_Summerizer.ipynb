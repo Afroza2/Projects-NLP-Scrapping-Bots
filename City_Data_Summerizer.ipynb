{
 "cells": [
  {
   "cell_type": "code",
   "execution_count": 2,
   "metadata": {},
   "outputs": [],
   "source": [
    "import spacy\n",
    "\n",
    "# Load the large English NLP model\n",
    "nlp = spacy.load('en_core_web_lg')\n",
    "import textacy.extract"
   ]
  },
  {
   "cell_type": "code",
   "execution_count": 78,
   "metadata": {},
   "outputs": [],
   "source": [
    "import io\n",
    "import os\n",
    "def city_data_summarize(file_name):\n",
    "    ff = io.open(file_name,'r', encoding='utf-8',errors='ignore')\n",
    "    contents = ff.read()\n",
    "    nlp = spacy.load('en_core_web_lg')\n",
    "    nlp.max_length = 3000000\n",
    "    doc = nlp(contents)\n",
    "    # print(doc)\n",
    "    city = os.path.basename(file_name)\n",
    "#     print('city', city)\n",
    "    under = \"_\"\n",
    "    for under in city:\n",
    "        city = city.replace(\"_\",\" \")\n",
    "    search = city.split(\".\")\n",
    "    capitalized_name = search[0].title()\n",
    "    capitalized = \"\".join(capitalized_name)\n",
    "    #print(capitalized)\n",
    "    statements = textacy.extract.semistructured_statements(doc, capitalized )\n",
    "\n",
    "    print(\"Here are the summarized version:\")\n",
    "\n",
    "    for statement in statements:\n",
    "        subject, verb, fact = statement\n",
    "        print(f\" - {fact}\")"
   ]
  },
  {
   "cell_type": "code",
   "execution_count": 80,
   "metadata": {},
   "outputs": [
    {
     "name": "stdout",
     "output_type": "stream",
     "text": [
      "Mexico City\n",
      "Here are the summarized version:\n",
      " - the capital city of Mexico\n",
      " - very well known for being the longest continuously inhabited city in the Western Hemisphere, and it is also the largest\n"
     ]
    }
   ],
   "source": [
    "city_data_summarize('/home/senjuti/NLP/Summarization_Projects/mexico_city.txt')"
   ]
  },
  {
   "cell_type": "code",
   "execution_count": null,
   "metadata": {},
   "outputs": [],
   "source": []
  }
 ],
 "metadata": {
  "kernelspec": {
   "display_name": "Python 3",
   "language": "python",
   "name": "python3"
  },
  "language_info": {
   "codemirror_mode": {
    "name": "ipython",
    "version": 3
   },
   "file_extension": ".py",
   "mimetype": "text/x-python",
   "name": "python",
   "nbconvert_exporter": "python",
   "pygments_lexer": "ipython3",
   "version": "3.7.6"
  }
 },
 "nbformat": 4,
 "nbformat_minor": 4
}
